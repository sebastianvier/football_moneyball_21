{
 "cells": [
  {
   "cell_type": "code",
   "execution_count": 1,
   "id": "1f942b1d",
   "metadata": {},
   "outputs": [],
   "source": [
    "# common python modules\n",
    "import sys\n",
    "import math\n",
    "#import warnings\n",
    "#warnings.filterwarnings(\"ignore\")\n",
    "\n",
    "\n",
    "# EDA and data visualization modules\n",
    "import pandas as pd\n",
    "import numpy as np\n",
    "import matplotlib.pyplot as plt\n",
    "import seaborn as sns"
   ]
  },
  {
   "cell_type": "code",
   "execution_count": 2,
   "id": "bd805506",
   "metadata": {},
   "outputs": [
    {
     "name": "stderr",
     "output_type": "stream",
     "text": [
      "/Users/sebastianvier/opt/anaconda3/lib/python3.8/site-packages/IPython/core/interactiveshell.py:3165: DtypeWarning: Columns (78) have mixed types.Specify dtype option on import or set low_memory=False.\n",
      "  has_raised = await self.run_ast_nodes(code_ast.body, cell_name,\n"
     ]
    }
   ],
   "source": [
    "data = pd.read_csv('data_files/fifa21_male2.csv')"
   ]
  },
  {
   "cell_type": "code",
   "execution_count": 3,
   "id": "f64cf6f4",
   "metadata": {},
   "outputs": [],
   "source": [
    "# Reusable functions\n",
    "\n",
    "def slice_by_values(arr, init, end):\n",
    "    init = list(arr).index(init)\n",
    "    end = list(arr).index(end)\n",
    "    return list(arr[init:end + 1])"
   ]
  },
  {
   "cell_type": "code",
   "execution_count": 4,
   "id": "b4952af2",
   "metadata": {},
   "outputs": [
    {
     "name": "stdout",
     "output_type": "stream",
     "text": [
      "ID\n",
      "Name\n",
      "Age\n",
      "OVA\n",
      "Nationality\n",
      "Club\n",
      "BOV\n",
      "BP\n",
      "Position\n",
      "Player Photo\n",
      "Club Logo\n",
      "Flag Photo\n",
      "POT\n",
      "Team & Contract\n",
      "Height\n",
      "Weight\n",
      "foot\n",
      "Growth\n",
      "Joined\n",
      "Loan Date End\n",
      "Value\n",
      "Wage\n",
      "Release Clause\n",
      "Contract\n",
      "Attacking\n",
      "Crossing\n",
      "Finishing\n",
      "Heading Accuracy\n",
      "Short Passing\n",
      "Volleys\n",
      "Skill\n",
      "Dribbling\n",
      "Curve\n",
      "FK Accuracy\n",
      "Long Passing\n",
      "Ball Control\n",
      "Movement\n",
      "Acceleration\n",
      "Sprint Speed\n",
      "Agility\n",
      "Reactions\n",
      "Balance\n",
      "Power\n",
      "Shot Power\n",
      "Jumping\n",
      "Stamina\n",
      "Strength\n",
      "Long Shots\n",
      "Mentality\n",
      "Aggression\n",
      "Interceptions\n",
      "Positioning\n",
      "Vision\n",
      "Penalties\n",
      "Composure\n",
      "Defending\n",
      "Marking\n",
      "Standing Tackle\n",
      "Sliding Tackle\n",
      "Goalkeeping\n",
      "GK Diving\n",
      "GK Handling\n",
      "GK Kicking\n",
      "GK Positioning\n",
      "GK Reflexes\n",
      "Total Stats\n",
      "Base Stats\n",
      "W/F\n",
      "SM\n",
      "A/W\n",
      "D/W\n",
      "IR\n",
      "PAC\n",
      "SHO\n",
      "PAS\n",
      "DRI\n",
      "DEF\n",
      "PHY\n",
      "Hits\n",
      "LS\n",
      "ST\n",
      "RS\n",
      "LW\n",
      "LF\n",
      "CF\n",
      "RF\n",
      "RW\n",
      "LAM\n",
      "CAM\n",
      "RAM\n",
      "LM\n",
      "LCM\n",
      "CM\n",
      "RCM\n",
      "RM\n",
      "LWB\n",
      "LDM\n",
      "CDM\n",
      "RDM\n",
      "RWB\n",
      "LB\n",
      "LCB\n",
      "CB\n",
      "RCB\n",
      "RB\n",
      "GK\n",
      "Gender\n"
     ]
    }
   ],
   "source": [
    "for column in data.columns:\n",
    "    print(column)"
   ]
  },
  {
   "cell_type": "code",
   "execution_count": 10,
   "id": "5845a82e",
   "metadata": {},
   "outputs": [
    {
     "name": "stdout",
     "output_type": "stream",
     "text": [
      "Number of teams with more than 20 players:\n",
      "446\n",
      "\n",
      "Total number of teams\n",
      "917\n"
     ]
    }
   ],
   "source": [
    "# How many teams have 20 or more players?\n",
    "print('Number of teams with more than 20 players:')\n",
    "print(len(data.iloc[:,5].value_counts()[data.iloc[:,5].value_counts() >= 20]))\n",
    "\n",
    "# Number of total teams\n",
    "print('\\nTotal number of teams')\n",
    "print(data.iloc[:,5].nunique())"
   ]
  },
  {
   "cell_type": "markdown",
   "id": "b33d3412",
   "metadata": {},
   "source": [
    "### Decide the best replacement for a transfered player in Sevilla FC"
   ]
  },
  {
   "cell_type": "markdown",
   "id": "005ba30c",
   "metadata": {},
   "source": [
    " First we are going to decide what player is going to be transfered.\n",
    " We select a player who is leaving on 2021 and has the highest wage.\n",
    "A player with a high wage is likely a player who is playing most matches."
   ]
  },
  {
   "cell_type": "markdown",
   "id": "69ba9265",
   "metadata": {},
   "source": [
    "##### But first we need to convert the column wage."
   ]
  },
  {
   "cell_type": "code",
   "execution_count": 40,
   "id": "c594f50d",
   "metadata": {},
   "outputs": [
    {
     "data": {
      "text/html": [
       "<div>\n",
       "<style scoped>\n",
       "    .dataframe tbody tr th:only-of-type {\n",
       "        vertical-align: middle;\n",
       "    }\n",
       "\n",
       "    .dataframe tbody tr th {\n",
       "        vertical-align: top;\n",
       "    }\n",
       "\n",
       "    .dataframe thead th {\n",
       "        text-align: right;\n",
       "    }\n",
       "</style>\n",
       "<table border=\"1\" class=\"dataframe\">\n",
       "  <thead>\n",
       "    <tr style=\"text-align: right;\">\n",
       "      <th></th>\n",
       "      <th>Name</th>\n",
       "      <th>Nationality</th>\n",
       "      <th>Contract</th>\n",
       "      <th>Wage</th>\n",
       "      <th>Age</th>\n",
       "    </tr>\n",
       "  </thead>\n",
       "  <tbody>\n",
       "    <tr>\n",
       "      <th>569</th>\n",
       "      <td>Jesús Navas</td>\n",
       "      <td>Spain</td>\n",
       "      <td>2017 ~ 2021</td>\n",
       "      <td>€43K</td>\n",
       "      <td>34</td>\n",
       "    </tr>\n",
       "    <tr>\n",
       "      <th>7631</th>\n",
       "      <td>M. Acuña</td>\n",
       "      <td>Argentina</td>\n",
       "      <td>2020 ~ 2024</td>\n",
       "      <td>€41K</td>\n",
       "      <td>28</td>\n",
       "    </tr>\n",
       "    <tr>\n",
       "      <th>4593</th>\n",
       "      <td>L. Ocampos</td>\n",
       "      <td>Argentina</td>\n",
       "      <td>2019 ~ 2024</td>\n",
       "      <td>€40K</td>\n",
       "      <td>25</td>\n",
       "    </tr>\n",
       "    <tr>\n",
       "      <th>6702</th>\n",
       "      <td>Diego Carlos</td>\n",
       "      <td>Brazil</td>\n",
       "      <td>2019 ~ 2024</td>\n",
       "      <td>€39K</td>\n",
       "      <td>27</td>\n",
       "    </tr>\n",
       "    <tr>\n",
       "      <th>4048</th>\n",
       "      <td>Suso</td>\n",
       "      <td>Spain</td>\n",
       "      <td>2020 ~ 2025</td>\n",
       "      <td>€39K</td>\n",
       "      <td>26</td>\n",
       "    </tr>\n",
       "    <tr>\n",
       "      <th>1061</th>\n",
       "      <td>I. Rakitić</td>\n",
       "      <td>Croatia</td>\n",
       "      <td>2020 ~ 2024</td>\n",
       "      <td>€39K</td>\n",
       "      <td>32</td>\n",
       "    </tr>\n",
       "    <tr>\n",
       "      <th>1925</th>\n",
       "      <td>Fernando</td>\n",
       "      <td>Brazil</td>\n",
       "      <td>2019 ~ 2022</td>\n",
       "      <td>€39K</td>\n",
       "      <td>32</td>\n",
       "    </tr>\n",
       "    <tr>\n",
       "      <th>2482</th>\n",
       "      <td>L. de Jong</td>\n",
       "      <td>Netherlands</td>\n",
       "      <td>2019 ~ 2023</td>\n",
       "      <td>€38K</td>\n",
       "      <td>29</td>\n",
       "    </tr>\n",
       "    <tr>\n",
       "      <th>2845</th>\n",
       "      <td>Escudero</td>\n",
       "      <td>Spain</td>\n",
       "      <td>2015 ~ 2021</td>\n",
       "      <td>€31K</td>\n",
       "      <td>30</td>\n",
       "    </tr>\n",
       "    <tr>\n",
       "      <th>7624</th>\n",
       "      <td>Joan Jordán</td>\n",
       "      <td>Spain</td>\n",
       "      <td>2019 ~ 2023</td>\n",
       "      <td>€30K</td>\n",
       "      <td>25</td>\n",
       "    </tr>\n",
       "  </tbody>\n",
       "</table>\n",
       "</div>"
      ],
      "text/plain": [
       "              Name  Nationality     Contract  Wage  Age\n",
       "569    Jesús Navas        Spain  2017 ~ 2021  €43K   34\n",
       "7631      M. Acuña    Argentina  2020 ~ 2024  €41K   28\n",
       "4593    L. Ocampos    Argentina  2019 ~ 2024  €40K   25\n",
       "6702  Diego Carlos       Brazil  2019 ~ 2024  €39K   27\n",
       "4048          Suso        Spain  2020 ~ 2025  €39K   26\n",
       "1061    I. Rakitić      Croatia  2020 ~ 2024  €39K   32\n",
       "1925      Fernando       Brazil  2019 ~ 2022  €39K   32\n",
       "2482    L. de Jong  Netherlands  2019 ~ 2023  €38K   29\n",
       "2845      Escudero        Spain  2015 ~ 2021  €31K   30\n",
       "7624   Joan Jordán        Spain  2019 ~ 2023  €30K   25"
      ]
     },
     "execution_count": 40,
     "metadata": {},
     "output_type": "execute_result"
    }
   ],
   "source": [
    "sevilla_fc = data[data['Club'] == 'Sevilla FC']\n",
    "sorted_index = sevilla_fc['Wage'].map(lambda x : int(x[1:-1])).sort_values(ascending=False).index\n",
    "## This codes strip the K and € sing gets the index to sort the players\n",
    "sevilla_fc.loc[sorted_index[:10]][['Name', 'Nationality', 'Contract', 'Wage', 'Age']]\n",
    "## That index is used then on the sevilla_fc to sort the playes by wage.\n",
    "## The [:10] is used to only get the first 10 players."
   ]
  },
  {
   "cell_type": "markdown",
   "id": "bc355583",
   "metadata": {},
   "source": [
    "So the player that is leaving is **Sergio Escudero**. Actually he is not playing in Sevilla anymore."
   ]
  },
  {
   "cell_type": "markdown",
   "id": "ee985e91",
   "metadata": {},
   "source": [
    "##### How do you decide what is the best replacement for a player?\n",
    "- How do you decide the amount you could pay?\n",
    "- How do you determine wether a player is good or not for a giving position?\n",
    "- Is there a way to determine wether or not a player suits the team they are going?\n",
    "- How can we determine wether a player price is cheap or expensive?\n"
   ]
  },
  {
   "cell_type": "markdown",
   "id": "abcf6766",
   "metadata": {},
   "source": [
    "#### What are the options?"
   ]
  },
  {
   "cell_type": "markdown",
   "id": "97353f61",
   "metadata": {},
   "source": [
    " ###### First we check the players that have the same best position and the best position of Escudero"
   ]
  },
  {
   "cell_type": "code",
   "execution_count": 48,
   "id": "0ee8a6e1",
   "metadata": {},
   "outputs": [],
   "source": [
    "bp_escudero = data.iloc[2845]['BP']\n",
    "position_escudero = data.iloc[2845]['Position']\n",
    "escudero_wage = int(data.iloc[2845]['Wage'][1:-1])\n",
    "\n",
    "## Amount of players that have exactly the same position\n",
    "\n",
    "## This is to reduce the data I am currently using.\n",
    "slice_by_values(data.columns, 'ID', 'Age')\n",
    "info_data = data[slice_by_values(data.columns, 'ID', 'Contract')]\n",
    "\n",
    "# Same position and same best position\n",
    "condition_1 = info_data['Position'] == position_escudero\n",
    "condition_2 = info_data['BP'] == bp_escudero\n",
    "\n",
    "# Around the same wage condition_3\n",
    "def filter_condition_3(value, threshold=.10):\n",
    "    if value[-1] != 'K':\n",
    "        return False\n",
    "    if int(value[1:-1]) > (escudero_wage + escudero_wage*threshold):\n",
    "        return False\n",
    "    if int(value[1:-1]) < (escudero_wage - escudero_wage*threshold):\n",
    "        return False\n",
    "    else:\n",
    "        return True\n",
    "    \n",
    "condition_3 = info_data['Wage'].apply(lambda x : filter_condition_3(x, .35)) \n",
    "\n",
    "## Create a global condition\n",
    "conditions = condition_1 & condition_2 & condition_3\n",
    "lb_players = info_data[conditions]"
   ]
  },
  {
   "cell_type": "code",
   "execution_count": 49,
   "id": "0ac3d135",
   "metadata": {},
   "outputs": [
    {
     "data": {
      "text/html": [
       "<div>\n",
       "<style scoped>\n",
       "    .dataframe tbody tr th:only-of-type {\n",
       "        vertical-align: middle;\n",
       "    }\n",
       "\n",
       "    .dataframe tbody tr th {\n",
       "        vertical-align: top;\n",
       "    }\n",
       "\n",
       "    .dataframe thead th {\n",
       "        text-align: right;\n",
       "    }\n",
       "</style>\n",
       "<table border=\"1\" class=\"dataframe\">\n",
       "  <thead>\n",
       "    <tr style=\"text-align: right;\">\n",
       "      <th></th>\n",
       "      <th>Name</th>\n",
       "      <th>Club</th>\n",
       "      <th>Nationality</th>\n",
       "      <th>Wage</th>\n",
       "    </tr>\n",
       "  </thead>\n",
       "  <tbody>\n",
       "    <tr>\n",
       "      <th>2072</th>\n",
       "      <td>M. Rybus</td>\n",
       "      <td>Lokomotiv Moscow</td>\n",
       "      <td>Poland</td>\n",
       "      <td>€35K</td>\n",
       "    </tr>\n",
       "    <tr>\n",
       "      <th>2705</th>\n",
       "      <td>F. N'Sakala</td>\n",
       "      <td>Beşiktaş JK</td>\n",
       "      <td>DR Congo</td>\n",
       "      <td>€38K</td>\n",
       "    </tr>\n",
       "    <tr>\n",
       "      <th>2845</th>\n",
       "      <td>Escudero</td>\n",
       "      <td>Sevilla FC</td>\n",
       "      <td>Spain</td>\n",
       "      <td>€31K</td>\n",
       "    </tr>\n",
       "    <tr>\n",
       "      <th>4420</th>\n",
       "      <td>Toño García</td>\n",
       "      <td>Levante UD</td>\n",
       "      <td>Spain</td>\n",
       "      <td>€21K</td>\n",
       "    </tr>\n",
       "    <tr>\n",
       "      <th>4882</th>\n",
       "      <td>Lucas Lima</td>\n",
       "      <td>Al Ahli</td>\n",
       "      <td>Brazil</td>\n",
       "      <td>€33K</td>\n",
       "    </tr>\n",
       "    <tr>\n",
       "      <th>5850</th>\n",
       "      <td>Kim Jin Su</td>\n",
       "      <td>Al Nassr</td>\n",
       "      <td>Korea Republic</td>\n",
       "      <td>€22K</td>\n",
       "    </tr>\n",
       "    <tr>\n",
       "      <th>6010</th>\n",
       "      <td>J. Mojica</td>\n",
       "      <td>Atalanta</td>\n",
       "      <td>Colombia</td>\n",
       "      <td>€40K</td>\n",
       "    </tr>\n",
       "    <tr>\n",
       "      <th>7631</th>\n",
       "      <td>M. Acuña</td>\n",
       "      <td>Sevilla FC</td>\n",
       "      <td>Argentina</td>\n",
       "      <td>€41K</td>\n",
       "    </tr>\n",
       "    <tr>\n",
       "      <th>8872</th>\n",
       "      <td>Ronaldo Esler</td>\n",
       "      <td>Atlético Mineiro</td>\n",
       "      <td>Brazil</td>\n",
       "      <td>€27K</td>\n",
       "    </tr>\n",
       "    <tr>\n",
       "      <th>11781</th>\n",
       "      <td>M. Olivera</td>\n",
       "      <td>Getafe CF</td>\n",
       "      <td>Uruguay</td>\n",
       "      <td>€22K</td>\n",
       "    </tr>\n",
       "  </tbody>\n",
       "</table>\n",
       "</div>"
      ],
      "text/plain": [
       "                Name              Club     Nationality  Wage\n",
       "2072        M. Rybus  Lokomotiv Moscow          Poland  €35K\n",
       "2705     F. N'Sakala       Beşiktaş JK        DR Congo  €38K\n",
       "2845        Escudero        Sevilla FC           Spain  €31K\n",
       "4420     Toño García        Levante UD           Spain  €21K\n",
       "4882      Lucas Lima           Al Ahli          Brazil  €33K\n",
       "5850      Kim Jin Su          Al Nassr  Korea Republic  €22K\n",
       "6010       J. Mojica          Atalanta        Colombia  €40K\n",
       "7631        M. Acuña        Sevilla FC       Argentina  €41K\n",
       "8872   Ronaldo Esler  Atlético Mineiro          Brazil  €27K\n",
       "11781     M. Olivera         Getafe CF         Uruguay  €22K"
      ]
     },
     "execution_count": 49,
     "metadata": {},
     "output_type": "execute_result"
    }
   ],
   "source": [
    "lb_players[['Name', 'Club','Nationality','Wage']]"
   ]
  },
  {
   "cell_type": "code",
   "execution_count": 50,
   "id": "cf6706e0",
   "metadata": {},
   "outputs": [],
   "source": [
    "lb_players_complete = data[condition_1 & condition_2]"
   ]
  },
  {
   "cell_type": "code",
   "execution_count": 54,
   "id": "ac0f79c3",
   "metadata": {},
   "outputs": [
    {
     "data": {
      "text/plain": [
       "555      €13K\n",
       "672        €0\n",
       "1001     €20K\n",
       "1187     €51K\n",
       "1640      €2K\n",
       "         ... \n",
       "16489     €2K\n",
       "16702     €3K\n",
       "16836     €3K\n",
       "16875    €500\n",
       "17030    €500\n",
       "Name: Wage, Length: 131, dtype: object"
      ]
     },
     "execution_count": 54,
     "metadata": {},
     "output_type": "execute_result"
    }
   ],
   "source": [
    "lb_players_complete['Value']\n",
    "lb_players_complete['Wage']"
   ]
  },
  {
   "cell_type": "code",
   "execution_count": 65,
   "id": "8556f7fc",
   "metadata": {},
   "outputs": [
    {
     "data": {
      "text/plain": [
       "555      13K\n",
       "672        0\n",
       "1001     20K\n",
       "1187     51K\n",
       "1640      2K\n",
       "        ... \n",
       "16489     2K\n",
       "16702     3K\n",
       "16836     3K\n",
       "16875    500\n",
       "17030    500\n",
       "Name: Wage, Length: 131, dtype: object"
      ]
     },
     "execution_count": 65,
     "metadata": {},
     "output_type": "execute_result"
    }
   ],
   "source": [
    "# sns.scatterplot(x='Wage', y='Value', data='lb_players_complete')\n",
    "\n",
    "def euros2numbers(value):\n",
    "    pass\n",
    "\n",
    "\n",
    "def remove_sign(val):\n",
    "    if (type(val) == str) and (val[0] == '€'):\n",
    "        return val[1:]\n",
    "    else:\n",
    "        return val\n",
    "\n",
    "lb_players_complete['Wage'].apply(lambda x : remove_sign(x))\n"
   ]
  },
  {
   "cell_type": "code",
   "execution_count": null,
   "id": "4e2762da",
   "metadata": {},
   "outputs": [],
   "source": []
  }
 ],
 "metadata": {
  "kernelspec": {
   "display_name": "Python 3",
   "language": "python",
   "name": "python3"
  },
  "language_info": {
   "codemirror_mode": {
    "name": "ipython",
    "version": 3
   },
   "file_extension": ".py",
   "mimetype": "text/x-python",
   "name": "python",
   "nbconvert_exporter": "python",
   "pygments_lexer": "ipython3",
   "version": "3.8.8"
  }
 },
 "nbformat": 4,
 "nbformat_minor": 5
}
