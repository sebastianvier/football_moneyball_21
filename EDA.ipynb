{
 "cells": [
  {
   "cell_type": "code",
   "execution_count": 103,
   "id": "1f942b1d",
   "metadata": {},
   "outputs": [],
   "source": [
    "# common python modules\n",
    "import sys\n",
    "import math\n",
    "#import warnings\n",
    "#warnings.filterwarnings(\"ignore\")\n",
    "\n",
    "\n",
    "# EDA and data visualization modules\n",
    "import pandas as pd\n",
    "import numpy as np\n",
    "import matplotlib.pyplot as plt\n",
    "%matplotlib inline\n",
    "import seaborn as sns"
   ]
  },
  {
   "cell_type": "code",
   "execution_count": 104,
   "id": "bd805506",
   "metadata": {},
   "outputs": [
    {
     "name": "stderr",
     "output_type": "stream",
     "text": [
      "/Users/sebastianvier/opt/anaconda3/lib/python3.8/site-packages/IPython/core/interactiveshell.py:3165: DtypeWarning: Columns (78) have mixed types.Specify dtype option on import or set low_memory=False.\n",
      "  has_raised = await self.run_ast_nodes(code_ast.body, cell_name,\n"
     ]
    }
   ],
   "source": [
    "data = pd.read_csv('data_files/fifa21_male2.csv')\n",
    "data.columns = [i.replace(' ', '_').lower() for i in data.columns]"
   ]
  },
  {
   "cell_type": "code",
   "execution_count": 183,
   "id": "f64cf6f4",
   "metadata": {},
   "outputs": [],
   "source": [
    "# Reusable functions\n",
    "\n",
    "def slice_by_values(columns, init, end):\n",
    "    init = list(columns).index(init)\n",
    "    end = list(columns).index(end)\n",
    "    return list(columns[init:end + 1])\n",
    "\n",
    "def remove_sign(val, sign):\n",
    "        if (type(val) == str) and (val[0] == sign):\n",
    "            return val[1:]\n",
    "        else:\n",
    "            return val\n",
    "\n",
    "def euros2numbers(val):\n",
    "    \"\"\"Turn values with € sign (€20K) into float values for math calculations\"\"\"\n",
    "     \n",
    "    def convert2number(val):\n",
    "        if type(val) == str:\n",
    "            if val[-1] == 'K':\n",
    "                return float(val[:-1]) * (10 ** 3)\n",
    "            if val[-1] == 'M':\n",
    "                return float(val[:-1]) * (10 ** 6)\n",
    "            else:\n",
    "                return val\n",
    "        else:\n",
    "            return val\n",
    "    \n",
    "    val = remove_sign(val, '€')\n",
    "    val = convert2number(val)\n",
    "    return val\n",
    "\n",
    "def devide_position_generator(df, both=False):\n",
    "    def devide_position_columns(value, pos):\n",
    "        array =  value.split('+')\n",
    "        return int(array[pos].strip())\n",
    "    \n",
    "    for column in df.columns:\n",
    "        yield df[column].apply(lambda x : devide_position_columns(x,0))\n",
    "        if both:\n",
    "            yield df[column].apply(lambda x : devide_position_columns(x,1))\n",
    "            \n",
    "def change_first_val(arr, f_value):\n",
    "    lst = [f_value]\n",
    "    for value in arr:\n",
    "        if value != f_value:\n",
    "            lst.append(value)\n",
    "    return lst\n",
    "\n",
    "def add_monetary_2_numeric(categorical_df):\n",
    "    for column in categorical_df.columns:\n",
    "        col_first_symbol = categorical_df[column].iloc[0][0] #of each row of each column\n",
    "        if col_first_symbol == '€':\n",
    "            yield categorical[column].apply(lambda x : euros2numbers(x))\n",
    "\n",
    "def add_position_2_numeric(categorical_df):\n",
    "    columns = slice_by_values(categorical_df.columns,init='ls',end='gk')\n",
    "    \n",
    "    transformed_df = pd.concat([i for i in devide_position_generator(categorical_df[columns])], axis=1)\n",
    "    result = pd.concat([numerical, transformed_df], axis=1)\n",
    "    return result, columns\n",
    "\n",
    "\n",
    "\n",
    "def filter_condition_3(value, threshold=.10):\n",
    "    if value[-1] != 'K':\n",
    "        return False\n",
    "    if int(value[1:-1]) > (escudero_wage + escudero_wage*threshold):\n",
    "        return False\n",
    "    if int(value[1:-1]) < (escudero_wage - escudero_wage*threshold):\n",
    "        return False\n",
    "    else:\n",
    "        return True\n",
    "    \n"
   ]
  },
  {
   "cell_type": "markdown",
   "id": "a16af6ac",
   "metadata": {},
   "source": [
    "### Some information about the data"
   ]
  },
  {
   "cell_type": "code",
   "execution_count": 106,
   "id": "5845a82e",
   "metadata": {},
   "outputs": [
    {
     "name": "stdout",
     "output_type": "stream",
     "text": [
      "Number of teams with more than 20 players:\n",
      "446\n",
      "\n",
      "Total number of teams\n",
      "917\n"
     ]
    }
   ],
   "source": [
    "# How many teams have 20 or more players?\n",
    "print('Number of teams with more than 20 players:')\n",
    "num_teams_20 = len(data.iloc[:,5].value_counts()[data.iloc[:,5].value_counts() >= 20])\n",
    "print(num_teams_20)\n",
    "\n",
    "# Number of total teams\n",
    "print('\\nTotal number of teams')\n",
    "num_teams = data.iloc[:,5].nunique()\n",
    "print(num_teams)"
   ]
  },
  {
   "cell_type": "code",
   "execution_count": 107,
   "id": "0078852b",
   "metadata": {},
   "outputs": [
    {
     "name": "stdout",
     "output_type": "stream",
     "text": [
      "\n",
      "Percentage of teams with 20 players or more\n",
      "0.49\n"
     ]
    }
   ],
   "source": [
    "# Percentage of teams with less 20 players or more\n",
    "print('\\nPercentage of teams with 20 players or more')\n",
    "print(round(num_teams_20/num_teams,2))"
   ]
  },
  {
   "cell_type": "markdown",
   "id": "d7ba1452",
   "metadata": {},
   "source": [
    "##### This means that more than half of the teams in the data set have less than 20 players. Probably there is some players missing"
   ]
  },
  {
   "cell_type": "markdown",
   "id": "b33d3412",
   "metadata": {},
   "source": [
    "### Decide the best replacement for a transfered player in Sevilla FC"
   ]
  },
  {
   "cell_type": "markdown",
   "id": "005ba30c",
   "metadata": {},
   "source": [
    " First we are going to decide what player is going to be transfered.\n",
    " We select a player who is leaving on 2021 and has the highest wage.\n",
    "A player with a high wage is likely a player who is playing most matches."
   ]
  },
  {
   "cell_type": "markdown",
   "id": "69ba9265",
   "metadata": {},
   "source": [
    "##### But first we need to convert the column wage."
   ]
  },
  {
   "cell_type": "code",
   "execution_count": 108,
   "id": "c594f50d",
   "metadata": {},
   "outputs": [
    {
     "data": {
      "text/html": [
       "<div>\n",
       "<style scoped>\n",
       "    .dataframe tbody tr th:only-of-type {\n",
       "        vertical-align: middle;\n",
       "    }\n",
       "\n",
       "    .dataframe tbody tr th {\n",
       "        vertical-align: top;\n",
       "    }\n",
       "\n",
       "    .dataframe thead th {\n",
       "        text-align: right;\n",
       "    }\n",
       "</style>\n",
       "<table border=\"1\" class=\"dataframe\">\n",
       "  <thead>\n",
       "    <tr style=\"text-align: right;\">\n",
       "      <th></th>\n",
       "      <th>name</th>\n",
       "      <th>nationality</th>\n",
       "      <th>contract</th>\n",
       "      <th>wage</th>\n",
       "      <th>age</th>\n",
       "    </tr>\n",
       "  </thead>\n",
       "  <tbody>\n",
       "    <tr>\n",
       "      <th>569</th>\n",
       "      <td>Jesús Navas</td>\n",
       "      <td>Spain</td>\n",
       "      <td>2017 ~ 2021</td>\n",
       "      <td>€43K</td>\n",
       "      <td>34</td>\n",
       "    </tr>\n",
       "    <tr>\n",
       "      <th>7631</th>\n",
       "      <td>M. Acuña</td>\n",
       "      <td>Argentina</td>\n",
       "      <td>2020 ~ 2024</td>\n",
       "      <td>€41K</td>\n",
       "      <td>28</td>\n",
       "    </tr>\n",
       "    <tr>\n",
       "      <th>4593</th>\n",
       "      <td>L. Ocampos</td>\n",
       "      <td>Argentina</td>\n",
       "      <td>2019 ~ 2024</td>\n",
       "      <td>€40K</td>\n",
       "      <td>25</td>\n",
       "    </tr>\n",
       "    <tr>\n",
       "      <th>6702</th>\n",
       "      <td>Diego Carlos</td>\n",
       "      <td>Brazil</td>\n",
       "      <td>2019 ~ 2024</td>\n",
       "      <td>€39K</td>\n",
       "      <td>27</td>\n",
       "    </tr>\n",
       "    <tr>\n",
       "      <th>4048</th>\n",
       "      <td>Suso</td>\n",
       "      <td>Spain</td>\n",
       "      <td>2020 ~ 2025</td>\n",
       "      <td>€39K</td>\n",
       "      <td>26</td>\n",
       "    </tr>\n",
       "    <tr>\n",
       "      <th>1061</th>\n",
       "      <td>I. Rakitić</td>\n",
       "      <td>Croatia</td>\n",
       "      <td>2020 ~ 2024</td>\n",
       "      <td>€39K</td>\n",
       "      <td>32</td>\n",
       "    </tr>\n",
       "    <tr>\n",
       "      <th>1925</th>\n",
       "      <td>Fernando</td>\n",
       "      <td>Brazil</td>\n",
       "      <td>2019 ~ 2022</td>\n",
       "      <td>€39K</td>\n",
       "      <td>32</td>\n",
       "    </tr>\n",
       "    <tr>\n",
       "      <th>2482</th>\n",
       "      <td>L. de Jong</td>\n",
       "      <td>Netherlands</td>\n",
       "      <td>2019 ~ 2023</td>\n",
       "      <td>€38K</td>\n",
       "      <td>29</td>\n",
       "    </tr>\n",
       "    <tr>\n",
       "      <th>2845</th>\n",
       "      <td>Escudero</td>\n",
       "      <td>Spain</td>\n",
       "      <td>2015 ~ 2021</td>\n",
       "      <td>€31K</td>\n",
       "      <td>30</td>\n",
       "    </tr>\n",
       "    <tr>\n",
       "      <th>7624</th>\n",
       "      <td>Joan Jordán</td>\n",
       "      <td>Spain</td>\n",
       "      <td>2019 ~ 2023</td>\n",
       "      <td>€30K</td>\n",
       "      <td>25</td>\n",
       "    </tr>\n",
       "  </tbody>\n",
       "</table>\n",
       "</div>"
      ],
      "text/plain": [
       "              name  nationality     contract  wage  age\n",
       "569    Jesús Navas        Spain  2017 ~ 2021  €43K   34\n",
       "7631      M. Acuña    Argentina  2020 ~ 2024  €41K   28\n",
       "4593    L. Ocampos    Argentina  2019 ~ 2024  €40K   25\n",
       "6702  Diego Carlos       Brazil  2019 ~ 2024  €39K   27\n",
       "4048          Suso        Spain  2020 ~ 2025  €39K   26\n",
       "1061    I. Rakitić      Croatia  2020 ~ 2024  €39K   32\n",
       "1925      Fernando       Brazil  2019 ~ 2022  €39K   32\n",
       "2482    L. de Jong  Netherlands  2019 ~ 2023  €38K   29\n",
       "2845      Escudero        Spain  2015 ~ 2021  €31K   30\n",
       "7624   Joan Jordán        Spain  2019 ~ 2023  €30K   25"
      ]
     },
     "execution_count": 108,
     "metadata": {},
     "output_type": "execute_result"
    }
   ],
   "source": [
    "sevilla_fc = data[data['club'] == 'Sevilla FC']\n",
    "sorted_index = sevilla_fc['wage'].map(lambda x : int(x[1:-1])).sort_values(ascending=False).index\n",
    "## This codes strip the K and € sing gets the index to sort the players\n",
    "sevilla_fc.loc[sorted_index[:10]][['name', 'nationality', 'contract', 'wage', 'age']]\n",
    "## That index is used then on the sevilla_fc to sort the playes by wage.\n",
    "## The [:10] is used to only get the first 10 players."
   ]
  },
  {
   "cell_type": "markdown",
   "id": "bc355583",
   "metadata": {},
   "source": [
    "So the player the players who is leaving is **Sergio Escudero**. Actually he is not playing in Sevilla anymore as to 2021."
   ]
  },
  {
   "cell_type": "markdown",
   "id": "abcf6766",
   "metadata": {},
   "source": [
    "### Candidates"
   ]
  },
  {
   "cell_type": "markdown",
   "id": "97353f61",
   "metadata": {},
   "source": [
    " ###### First we check the players that have the same best position and the best position of Escudero"
   ]
  },
  {
   "cell_type": "code",
   "execution_count": 109,
   "id": "0ee8a6e1",
   "metadata": {},
   "outputs": [],
   "source": [
    "bp_escudero = data.iloc[2845]['bp']\n",
    "position_escudero = data.iloc[2845]['position']\n",
    "escudero_wage = int(data.iloc[2845]['wage'][1:-1])\n",
    "\n",
    "## Amount of players that have exactly the same position\n",
    "\n",
    "## This is to reduce the data I am currently using.\n",
    "info_data = data[slice_by_values(data.columns, 'id', 'contract')]\n",
    "\n",
    "# Same position and same best position\n",
    "condition_1 = info_data['position'] == position_escudero\n",
    "condition_2 = info_data['bp'] == bp_escudero\n",
    "\n"
   ]
  },
  {
   "cell_type": "markdown",
   "id": "2451cdfd",
   "metadata": {},
   "source": [
    "###### Now we check at a player with a similar Wage and whos age is no more than 33"
   ]
  },
  {
   "cell_type": "code",
   "execution_count": 110,
   "id": "1bc8efd9",
   "metadata": {},
   "outputs": [],
   "source": [
    "# Around the same wage condition_3\n",
    "    \n",
    "condition_3 = info_data['wage'].apply(lambda x : filter_condition_3(x, .40)) \n",
    "condition_4 = info_data['age'] < 33\n",
    "\n",
    "## Create a global condition\n",
    "conditions = condition_1 & condition_2 & condition_3 & condition_4\n",
    "candidates = data[conditions]"
   ]
  },
  {
   "cell_type": "code",
   "execution_count": 111,
   "id": "c6c4577e",
   "metadata": {
    "scrolled": true
   },
   "outputs": [
    {
     "data": {
      "text/plain": [
       "(14, 107)"
      ]
     },
     "execution_count": 111,
     "metadata": {},
     "output_type": "execute_result"
    }
   ],
   "source": [
    "candidates.shape"
   ]
  },
  {
   "cell_type": "markdown",
   "id": "e22fcfa6",
   "metadata": {},
   "source": [
    "### Cleaning the data"
   ]
  },
  {
   "cell_type": "code",
   "execution_count": 522,
   "id": "24dd21c6",
   "metadata": {},
   "outputs": [],
   "source": [
    "## Delete all unnecesary columns\n",
    "unnesary_columns = ['player_photo', 'club_logo', 'flag_photo', 'team_&_contract', 'loan_date_end']\n",
    "numerical = candidates.select_dtypes(np.number).drop('id', axis=1)\n",
    "categorical = candidates.select_dtypes(exclude=np.number).drop(unnesary_columns,axis=1, errors='ignore')"
   ]
  },
  {
   "cell_type": "code",
   "execution_count": 523,
   "id": "2ba08f7d",
   "metadata": {},
   "outputs": [],
   "source": [
    "## Transform position in the court to the numeric values and drop them from categorical\n",
    "numerical, droping_columns = add_position_2_numeric(categorical)\n",
    "categorical = categorical.drop(droping_columns, axis=1,errors='ignore')"
   ]
  },
  {
   "cell_type": "code",
   "execution_count": 524,
   "id": "61b0ebfb",
   "metadata": {},
   "outputs": [],
   "source": [
    "## Change the values concerning money and add them to numerical\n",
    "monetary = pd.concat([i for i in add_monetary_2_numeric(categorical)], axis=1)\n",
    "numerical = pd.concat([numerical,monetary],axis=1)"
   ]
  },
  {
   "cell_type": "markdown",
   "id": "146fbe81",
   "metadata": {},
   "source": [
    "#### Eliminating collinearity in the data"
   ]
  },
  {
   "cell_type": "code",
   "execution_count": 525,
   "id": "d9f4f623",
   "metadata": {},
   "outputs": [
    {
     "name": "stdout",
     "output_type": "stream",
     "text": [
      "(14, 84)\n"
     ]
    }
   ],
   "source": [
    "print(numerical.shape)"
   ]
  },
  {
   "cell_type": "code",
   "execution_count": 534,
   "id": "79337493",
   "metadata": {
    "scrolled": true
   },
   "outputs": [],
   "source": [
    "def add_values_2_drop(df, threshold=.1):\n",
    "    for i in range(1, len(df)):\n",
    "        if df[i] > (1-threshold):\n",
    "#             print(f'Correlation found between {df.index[0]} and {df.index[i]}')\n",
    "            drop_list.append(df.index[i])\n",
    "\n",
    "def drop_columns_from_init():\n",
    "    for column in initial_columns:\n",
    "        if column in drop_list:\n",
    "            initial_columns.remove(column)\n",
    "            \n",
    "drop_list = []\n",
    "checked_columns = []\n",
    "initial_columns = list(numerical.columns)\n",
    "corr = numerical[initial_columns].corr().iloc[0,:] \n",
    "\n",
    "\n",
    "while len(initial_columns) > 2:\n",
    "    add_values_2_drop(corr, threshold=.03)\n",
    "    checked_columns.append(initial_columns[0])\n",
    "    initial_columns = initial_columns[1:]\n",
    "    drop_columns_from_init()\n",
    "    corr = numerical[initial_columns].corr().iloc[0,:]\n",
    "    \n",
    "def eliminate_collinearity(data):\n",
    "    pass"
   ]
  },
  {
   "cell_type": "code",
   "execution_count": 537,
   "id": "c6030b70",
   "metadata": {},
   "outputs": [
    {
     "data": {
      "text/plain": [
       "(14, 59)"
      ]
     },
     "execution_count": 537,
     "metadata": {},
     "output_type": "execute_result"
    }
   ],
   "source": [
    "numerical.shape"
   ]
  }
 ],
 "metadata": {
  "kernelspec": {
   "display_name": "Python 3",
   "language": "python",
   "name": "python3"
  },
  "language_info": {
   "codemirror_mode": {
    "name": "ipython",
    "version": 3
   },
   "file_extension": ".py",
   "mimetype": "text/x-python",
   "name": "python",
   "nbconvert_exporter": "python",
   "pygments_lexer": "ipython3",
   "version": "3.8.8"
  }
 },
 "nbformat": 4,
 "nbformat_minor": 5
}
